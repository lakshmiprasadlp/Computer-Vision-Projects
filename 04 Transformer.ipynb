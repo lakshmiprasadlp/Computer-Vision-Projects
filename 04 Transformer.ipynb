{
 "cells": [
  {
   "cell_type": "markdown",
   "id": "17a5f78a",
   "metadata": {},
   "source": [
    "\n",
    "---\n",
    "\n",
    "### 🔍 **1. Vision Transformer (ViT)**\n",
    "\n",
    "**Use Case:** Primarily for **image classification**\n",
    "\n",
    "| Aspect          | Details                                                                            |\n",
    "| --------------- | ---------------------------------------------------------------------------------- |\n",
    "| 🔧 Architecture | Pure transformer (no convolutions); splits images into patches                     |\n",
    "| 🧠 Pretraining  | Requires large datasets (e.g., JFT-300M) for best performance                      |\n",
    "| 🧪 Tasks        | Image classification (main), also adapted for segmentation (e.g., Segmenter, SETR) |\n",
    "| ⚡ Pros          | Simple, elegant, scalable                                                          |\n",
    "| ❌ Cons          | Poor performance on small datasets without data augmentation or distillation       |\n",
    "\n",
    "---\n",
    "\n",
    "### 🎯 **2. DETR (DEtection TRansformer)**\n",
    "\n",
    "**Use Case:** **Object detection and instance segmentation**\n",
    "\n",
    "| Aspect          | Details                                                                      |\n",
    "| --------------- | ---------------------------------------------------------------------------- |\n",
    "| 🔧 Architecture | CNN backbone (e.g., ResNet) + Transformer encoder-decoder                    |\n",
    "| 🧠 Core Idea    | Treats object detection as a direct set prediction task (no anchors, no NMS) |\n",
    "| 🧪 Tasks        | Object detection, instance segmentation (via mask head)                      |\n",
    "| ⚡ Pros          | Clean, end-to-end training                                                   |\n",
    "| ❌ Cons          | Slow convergence, harder to train (solved by Deformable DETR)                |\n",
    "\n",
    "---\n",
    "\n",
    "### 🌀 **3. Swin Transformer (Shifted Windows)**\n",
    "\n",
    "**Use Case:** **All vision tasks** (classification, detection, segmentation)\n",
    "\n",
    "| Aspect          | Details                                                                                        |\n",
    "| --------------- | ---------------------------------------------------------------------------------------------- |\n",
    "| 🔧 Architecture | Hierarchical transformer with shifted window attention                                         |\n",
    "| 🧠 Core Idea    | Local attention with window shifting to allow cross-window interaction                         |\n",
    "| 🧪 Tasks        | Classification, detection, semantic segmentation, instance segmentation, panoptic segmentation |\n",
    "| ⚡ Pros          | Highly efficient, scalable, CNN-like feature maps                                              |\n",
    "| ❌ Cons          | Slightly more complex to implement than ViT                                                    |\n",
    "\n",
    "---\n",
    "\n",
    "### ✅ **Summary Table**\n",
    "\n",
    "| Model    | Classification | Object Detection | Semantic Segmentation              | Instance Segmentation  | Panoptic Segmentation |\n",
    "| -------- | -------------- | ---------------- | ---------------------------------- | ---------------------- | --------------------- |\n",
    "| **ViT**  | ✅ Yes          | ⚠️ Limited       | ⚠️ Limited (e.g., SETR, Segmenter) | ❌ No                   | ❌ No                  |\n",
    "| **DETR** | ❌ No           | ✅ Yes            | ❌ No                               | ✅ Yes (with mask head) | ❌ Limited             |\n",
    "| **Swin** | ✅ Yes          | ✅ Yes            | ✅ Yes                              | ✅ Yes                  | ✅ Yes                 |\n",
    "\n",
    "---\n",
    "\n"
   ]
  },
  {
   "cell_type": "markdown",
   "id": "149d1b66",
   "metadata": {},
   "source": []
  }
 ],
 "metadata": {
  "language_info": {
   "name": "python"
  }
 },
 "nbformat": 4,
 "nbformat_minor": 5
}
